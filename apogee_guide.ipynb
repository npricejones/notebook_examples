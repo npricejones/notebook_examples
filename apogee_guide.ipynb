{
 "cells": [
  {
   "cell_type": "code",
   "execution_count": 1,
   "metadata": {},
   "outputs": [
    {
     "name": "stdout",
     "output_type": "stream",
     "text": [
      "Populating the interactive namespace from numpy and matplotlib\n"
     ]
    }
   ],
   "source": [
    "import apogee.tools.read as apread\n",
    "import gaia_tools.load as gload\n",
    "from gaia_tools import xmatch\n",
    "import numpy as np\n",
    "import matplotlib.pyplot as plt\n",
    "import astropy.io.fits as pyfits # for reading distance file\n",
    "%pylab inline\n",
    "\n",
    "from matplotlib.colors import LogNorm # log-scaled 2D histograms\n",
    "default_cmap='viridis' # for 2D histograms\n",
    "\n",
    "# Set global MPL parameters\n",
    "fs = 18\n",
    "import matplotlib\n",
    "font = {'family': 'serif',\n",
    "        'weight': 'normal',\n",
    "        'size'  :  fs\n",
    "        }\n",
    "matplotlib.rc('font',**font)"
   ]
  },
  {
   "cell_type": "markdown",
   "metadata": {},
   "source": [
    "## Choose current DR"
   ]
  },
  {
   "cell_type": "code",
   "execution_count": 2,
   "metadata": {},
   "outputs": [],
   "source": [
    "from apogee.tools.path import change_dr\n",
    "change_dr('current')"
   ]
  },
  {
   "cell_type": "markdown",
   "metadata": {},
   "source": [
    "## Define a nice 2D hist plotting function"
   ]
  },
  {
   "cell_type": "code",
   "execution_count": 3,
   "metadata": {},
   "outputs": [],
   "source": [
    "def hist2d(fig,ax,x,y,bins=100,clabel=False,vmin=0,vmax=110,norm='lin'):\n",
    "    \"\"\"\n",
    "    Create a 2D histogram of data represented by the two dimensions x and y\n",
    "    \n",
    "    fig:      Figure to plot in\n",
    "    ax:       Subplot object to plot in\n",
    "    x:        Array of data values in 'x'\n",
    "    y:        Array of data values in 'y'\n",
    "    bins:     Number of bins in which to divide each axis\n",
    "    clabel:   Label for the colourbar - no colourbar is plotted if this is not given\n",
    "    vmin:     Minimum value of the histogram\n",
    "    vmax:     Maximum value of the histogram\n",
    "    \n",
    "    \"\"\"\n",
    "    # Create histogram\n",
    "    H,xedges,yedges = np.histogram2d(x,y,bins=bins)\n",
    "    # Reorient appropriately\n",
    "    H = np.rot90(H)\n",
    "    H = np.flipud(H)\n",
    "    # Mask where bins are empty\n",
    "    Hmasked = np.ma.masked_where(H==0,H)\n",
    "    # Plot histogram\n",
    "    if norm == 'lin':\n",
    "        im = ax.pcolormesh(xedges,yedges,Hmasked,\n",
    "                           cmap = plt.get_cmap(default_cmap),\n",
    "                           vmin=vmin,vmax=vmax)\n",
    "    elif norm == 'log':\n",
    "            im = ax.pcolormesh(xedges,yedges,Hmasked,\n",
    "                           cmap = plt.get_cmap(default_cmap),\n",
    "                           norm=LogNorm(vmin=vmin,vmax=vmax))\n",
    "    # If colourbar is desired, plot and label it\n",
    "    if clabel:\n",
    "        cbar=fig.colorbar(im,pad = 0)\n",
    "        cbar.set_label(label=clabel,fontsize=fs,rotation=270,labelpad=15)\n",
    "        cbar.ax.tick_params(labelsize=fs)\n",
    "    elif not clabel:\n",
    "        cbar=fig.colorbar(im,pad = 0)\n",
    "        cbar.ax.tick_params(labelsize=fs)"
   ]
  },
  {
   "cell_type": "markdown",
   "metadata": {},
   "source": [
    "## Read APOGEE data"
   ]
  },
  {
   "cell_type": "markdown",
   "metadata": {},
   "source": [
    "Full data model can be found https://data.sdss.org/datamodel/index-files.html"
   ]
  },
  {
   "cell_type": "code",
   "execution_count": 4,
   "metadata": {},
   "outputs": [],
   "source": [
    "data = apread.allStar(mjd = 58104)"
   ]
  },
  {
   "cell_type": "markdown",
   "metadata": {},
   "source": [
    "## Read APOGEE distance data"
   ]
  },
  {
   "cell_type": "code",
   "execution_count": 6,
   "metadata": {},
   "outputs": [],
   "source": [
    "dist_data = pyfits.getdata('apogee_south.fits')"
   ]
  },
  {
   "cell_type": "markdown",
   "metadata": {},
   "source": [
    "## Find distance indices in allStar"
   ]
  },
  {
   "cell_type": "code",
   "execution_count": 12,
   "metadata": {},
   "outputs": [],
   "source": [
    "m1,m2,sep= xmatch.xmatch(data,dist_data)"
   ]
  },
  {
   "cell_type": "markdown",
   "metadata": {},
   "source": [
    "## Read TGAS Catalogue"
   ]
  },
  {
   "cell_type": "code",
   "execution_count": 9,
   "metadata": {},
   "outputs": [],
   "source": [
    "tgas_cat= gload.tgas()"
   ]
  },
  {
   "cell_type": "markdown",
   "metadata": {},
   "source": [
    "## Find APOGEE-TGAS overlap"
   ]
  },
  {
   "cell_type": "code",
   "execution_count": 10,
   "metadata": {},
   "outputs": [],
   "source": [
    "m1,m2,sep= xmatch.xmatch(data,tgas_cat,colRA2='ra',colDec2='dec',epoch2=2015.)"
   ]
  },
  {
   "cell_type": "markdown",
   "metadata": {},
   "source": [
    "## Example plot"
   ]
  },
  {
   "cell_type": "code",
   "execution_count": 11,
   "metadata": {},
   "outputs": [
    {
     "data": {
      "text/plain": [
       "<matplotlib.text.Text at 0x7fc42b47e6d8>"
      ]
     },
     "execution_count": 11,
     "metadata": {},
     "output_type": "execute_result"
    },
    {
     "data": {
      "image/png": "[encoded data removed]",
      "text/plain": [
       "<matplotlib.figure.Figure at 0x7fc43e688d68>"
      ]
     },
     "metadata": {},
     "output_type": "display_data"
    }
   ],
   "source": [
    "# Make beautiful latex\n",
    "plt.rc('text', usetex=True)\n",
    "plt.rc('font', family='serif')\n",
    "\n",
    "# Find where parameters are known\n",
    "mask = np.where((data['FE_H'] > -9999) & (data['ALPHA_M'] > -9999))\n",
    "fig = plt.figure(figsize=(12,10))\n",
    "ax = fig.add_subplot(111)\n",
    "hist2d(fig,ax,data['FE_H'][mask],data['ALPHA_M'][mask],bins=100,\n",
    "       vmin=1,vmax=3e3,norm='log',clabel='Number of stars')\n",
    "plt.xlabel('[Fe/H]')\n",
    "plt.ylabel(r'[$\\alpha$/M]')"
   ]
  }
 ],
 "metadata": {
  "kernelspec": {
   "display_name": "Python 3",
   "language": "python",
   "name": "python3"
  },
  "language_info": {
   "codemirror_mode": {
    "name": "ipython",
    "version": 3
   },
   "file_extension": ".py",
   "mimetype": "text/x-python",
   "name": "python",
   "nbconvert_exporter": "python",
   "pygments_lexer": "ipython3",
   "version": "3.6.2"
  }
 },
 "nbformat": 4,
 "nbformat_minor": 2
}
